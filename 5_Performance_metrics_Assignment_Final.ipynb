{
 "cells": [
  {
   "cell_type": "markdown",
   "metadata": {
    "colab_type": "text",
    "id": "s0Ej_bXyQvnV"
   },
   "source": [
    "# Compute performance metrics for the given Y and Y_score without sklearn"
   ]
  },
  {
   "cell_type": "code",
   "execution_count": 1,
   "metadata": {
    "colab": {},
    "colab_type": "code",
    "id": "4CHb6NE7Qvnc"
   },
   "outputs": [],
   "source": [
    "import numpy as np\n",
    "import pandas as pd\n",
    "# other than these two you should not import any other packages"
   ]
  },
  {
   "cell_type": "markdown",
   "metadata": {
    "colab_type": "text",
    "id": "KbsWXuDaQvnq"
   },
   "source": [
    "<pre>\n",
    "<font color='red'><b>A.</b></font> Compute performance metrics for the given data <strong>5_a.csv</strong>\n",
    "   <b>Note 1:</b> in this data you can see number of positive points >> number of negatives points\n",
    "   <b>Note 2:</b> use pandas or numpy to read the data from <b>5_a.csv</b>\n",
    "   <b>Note 3:</b> you need to derive the class labels from given score</pre> $y^{pred}= \\text{[0 if y_score < 0.5 else 1]}$\n",
    "\n",
    "<pre>\n",
    "<ol>\n",
    "<li> Compute Confusion Matrix </li>\n",
    "<li> Compute F1 Score </li>\n",
    "<li> Compute AUC Score, you need to compute different thresholds and for each threshold compute tpr,fpr and then use               numpy.trapz(tpr_array, fpr_array) <a href='https://stackoverflow.com/q/53603376/4084039'>https://stackoverflow.com/q/53603376/4084039</a>, <a href='https://stackoverflow.com/a/39678975/4084039'>https://stackoverflow.com/a/39678975/4084039</a> Note: it should be numpy.trapz(tpr_array, fpr_array) not numpy.trapz(fpr_array, tpr_array)</li>\n",
    "<li> Compute Accuracy Score </li>\n",
    "</ol>\n",
    "</pre>"
   ]
  },
  {
   "cell_type": "code",
   "execution_count": null,
   "metadata": {
    "colab": {
     "base_uri": "https://localhost:8080/",
     "height": 124
    },
    "colab_type": "code",
    "id": "WaFLW7oBQvnt",
    "outputId": "6b1d8fb7-960a-42b1-ed75-c392a4a331f3"
   },
   "outputs": [
    {
     "name": "stdout",
     "output_type": "stream",
     "text": [
      "Go to this URL in a browser: https://accounts.google.com/o/oauth2/auth?client_id=947318989803-6bn6qk8qdgf4n4g3pfee6491hc0brc4i.apps.googleusercontent.com&redirect_uri=urn%3aietf%3awg%3aoauth%3a2.0%3aoob&response_type=code&scope=email%20https%3a%2f%2fwww.googleapis.com%2fauth%2fdocs.test%20https%3a%2f%2fwww.googleapis.com%2fauth%2fdrive%20https%3a%2f%2fwww.googleapis.com%2fauth%2fdrive.photos.readonly%20https%3a%2f%2fwww.googleapis.com%2fauth%2fpeopleapi.readonly\n",
      "\n",
      "Enter your authorization code:\n",
      "··········\n",
      "Mounted at /gdrive\n"
     ]
    }
   ],
   "source": [
    "# write your code here\n",
    "\n",
    "from google.colab import drive\n",
    "drive.mount('/gdrive')"
   ]
  },
  {
   "cell_type": "code",
   "execution_count": null,
   "metadata": {
    "colab": {
     "base_uri": "https://localhost:8080/",
     "height": 202
    },
    "colab_type": "code",
    "id": "K1GJqUVgTftj",
    "outputId": "38b7b0fc-8302-4495-851a-7be1c26d387e"
   },
   "outputs": [
    {
     "data": {
      "text/html": [
       "<div>\n",
       "<style scoped>\n",
       "    .dataframe tbody tr th:only-of-type {\n",
       "        vertical-align: middle;\n",
       "    }\n",
       "\n",
       "    .dataframe tbody tr th {\n",
       "        vertical-align: top;\n",
       "    }\n",
       "\n",
       "    .dataframe thead th {\n",
       "        text-align: right;\n",
       "    }\n",
       "</style>\n",
       "<table border=\"1\" class=\"dataframe\">\n",
       "  <thead>\n",
       "    <tr style=\"text-align: right;\">\n",
       "      <th></th>\n",
       "      <th>y</th>\n",
       "      <th>proba</th>\n",
       "      <th>P</th>\n",
       "    </tr>\n",
       "  </thead>\n",
       "  <tbody>\n",
       "    <tr>\n",
       "      <th>0</th>\n",
       "      <td>1</td>\n",
       "      <td>0.637387</td>\n",
       "      <td>1</td>\n",
       "    </tr>\n",
       "    <tr>\n",
       "      <th>1</th>\n",
       "      <td>1</td>\n",
       "      <td>0.635165</td>\n",
       "      <td>1</td>\n",
       "    </tr>\n",
       "    <tr>\n",
       "      <th>2</th>\n",
       "      <td>1</td>\n",
       "      <td>0.766586</td>\n",
       "      <td>1</td>\n",
       "    </tr>\n",
       "    <tr>\n",
       "      <th>3</th>\n",
       "      <td>1</td>\n",
       "      <td>0.724564</td>\n",
       "      <td>1</td>\n",
       "    </tr>\n",
       "    <tr>\n",
       "      <th>4</th>\n",
       "      <td>1</td>\n",
       "      <td>0.889199</td>\n",
       "      <td>1</td>\n",
       "    </tr>\n",
       "  </tbody>\n",
       "</table>\n",
       "</div>"
      ],
      "text/plain": [
       "   y     proba  P\n",
       "0  1  0.637387  1\n",
       "1  1  0.635165  1\n",
       "2  1  0.766586  1\n",
       "3  1  0.724564  1\n",
       "4  1  0.889199  1"
      ]
     },
     "execution_count": 26,
     "metadata": {
      "tags": []
     },
     "output_type": "execute_result"
    }
   ],
   "source": [
    "task_one = pd.read_csv('/content/5_a.csv')\n",
    "#ypred=[0 if y_score < 0.5 else 1]\n",
    "task_one['y'] = task_one['y'].astype(int)\n",
    "task_one['P'] = (task_one['proba'] >= 0.5).astype(int)\n",
    "task_one.head()"
   ]
  },
  {
   "cell_type": "code",
   "execution_count": null,
   "metadata": {
    "colab": {
     "base_uri": "https://localhost:8080/",
     "height": 156
    },
    "colab_type": "code",
    "id": "XsgKdzJYgvLR",
    "outputId": "982ca317-30cb-4fe5-9f94-c015904cfcc3"
   },
   "outputs": [
    {
     "name": "stdout",
     "output_type": "stream",
     "text": [
      "Confusion Matrix:\n",
      "True Positive 10000\n",
      "True Negative 0\n",
      "False Positive 100\n",
      "False Negative 0\n",
      "***************************\n",
      "Accuarcy of task A: 99.00990099009901\n",
      "F1_Score of Task A: 99.50248756218905\n"
     ]
    }
   ],
   "source": [
    "def compute_All(Actual,Predicted):\n",
    "\n",
    "  TP = np.sum((Actual==1) & (Predicted==1))\n",
    "  TN = np.sum((Actual==0) & (Predicted==0))\n",
    "  FN = np.sum((Actual==1) & (Predicted==0))\n",
    "  FP = np.sum((Actual==0) & (Predicted==1))\n",
    "\n",
    "  Accuracy = ((TP+TN)/float(TP+TN+FP+FN))*100\n",
    "\n",
    "  Precision = (TP/(FP+TP))*100\n",
    "  Recall = (TP/(TP+FN))*100\n",
    "\n",
    "  F1_Score = 2 * ((Precision*Recall)/(Precision+Recall))\n",
    "\n",
    "  return TP,TN,FN,FP,Accuracy,F1_Score\n",
    "\n",
    "TP,TN,FN,FP,Accuracy,F1_Score = compute_All(task_one['y'], task_one['P'])\n",
    "\n",
    "print('Confusion Matrix:')\n",
    "print('True Positive',TP)\n",
    "print('True Negative',TN)\n",
    "print('False Positive',FP)\n",
    "print('False Negative',FN)\n",
    "print('***************************')\n",
    "print('Accuarcy of task A:',Accuracy)\n",
    "print('F1_Score of Task A:',F1_Score)"
   ]
  },
  {
   "cell_type": "code",
   "execution_count": null,
   "metadata": {
    "colab": {
     "base_uri": "https://localhost:8080/",
     "height": 34
    },
    "colab_type": "code",
    "id": "wDsUwF998pxZ",
    "outputId": "c972c374-04bf-4951-af63-c9a6ba81dd08"
   },
   "outputs": [
    {
     "name": "stdout",
     "output_type": "stream",
     "text": [
      "Area Under the Curve: 0.48897750000000006\n"
     ]
    }
   ],
   "source": [
    "def roc_curve(actual,probability,thresholds):\n",
    "    FPR = []\n",
    "    TPR = []\n",
    "    \n",
    "    for threshold in thresholds:\n",
    "        threshold = round(threshold,2)\n",
    "        predicted = np.where(probability >= threshold, 1, 0) #for each threshold value we are predicting class-label of y\n",
    "        \n",
    "        #Computing Confusion Matrix\n",
    "        tp = np.sum((predicted == 1) & (actual == 1))\n",
    "        tn = np.sum((predicted == 0) & (actual == 0))\n",
    "        fp = np.sum((predicted == 1) & (actual == 0))\n",
    "        fn = np.sum((predicted == 0) & (actual == 1))\n",
    "\n",
    "        #Computing TPR & FPR based on the formulae\n",
    "        FPR.append(fp / (fp + tn))\n",
    "        TPR.append(tp / (tp + fn))\n",
    "        \n",
    "    return [FPR,TPR]\n",
    "\n",
    "FPR, TPR= roc_curve(task_one['y'],task_one['proba'],thresholds = np.sort(np.arange(0.0,1.01,0.1))[::-1])\n",
    "FPR_array = np.asarray(FPR)\n",
    "TPR_array = np.asarray(TPR)\n",
    "\n",
    "AUC_A = np.trapz(TPR_array,FPR_array)\n",
    "print('Area Under the Curve:', AUC_A)"
   ]
  },
  {
   "cell_type": "code",
   "execution_count": null,
   "metadata": {
    "colab": {
     "base_uri": "https://localhost:8080/",
     "height": 294
    },
    "colab_type": "code",
    "id": "-9GapcrqT79D",
    "outputId": "f0b8ba66-4e03-4a91-9c8f-806bfc0750b8"
   },
   "outputs": [
    {
     "data": {
      "image/png": "[encoded data removed]",
      "text/plain": [
       "<Figure size 432x288 with 1 Axes>"
      ]
     },
     "metadata": {
      "needs_background": "light",
      "tags": []
     },
     "output_type": "display_data"
    }
   ],
   "source": [
    "#Plotting the below ROC Curve just for reference\n",
    "import matplotlib.pyplot as plt\n",
    "plt.plot(FPR, TPR,color='darkorange',lw= 3,label='ROC curve')\n",
    "plt.plot([0, 1], [0, 1], color='navy', linestyle='--')\n",
    "plt.xlim([0.0, 1.0])\n",
    "plt.ylim([0.0, 1.0])\n",
    "plt.xlabel('False Positive Rate')\n",
    "plt.ylabel('True Positive Rate')\n",
    "plt.title('ROC curve, AUC = %.2f'%AUC_A)\n",
    "plt.legend()\n",
    "plt.show()"
   ]
  },
  {
   "cell_type": "markdown",
   "metadata": {
    "colab_type": "text",
    "id": "V5KZem1BQvn2"
   },
   "source": [
    "<pre>\n",
    "<font color='red'><b>B.</b></font> Compute performance metrics for the given data <strong>5_b.csv</strong>\n",
    "   <b>Note 1:</b> in this data you can see number of positive points << number of negatives points\n",
    "   <b>Note 2:</b> use pandas or numpy to read the data from <b>5_b.csv</b>\n",
    "   <b>Note 3:</b> you need to derive the class labels from given score</pre> $y^{pred}= \\text{[0 if y_score < 0.5 else 1]}$\n",
    "\n",
    "<pre>\n",
    "<ol>\n",
    "<li> Compute Confusion Matrix </li>\n",
    "<li> Compute F1 Score </li>\n",
    "<li> Compute AUC Score, you need to compute different thresholds and for each threshold compute tpr,fpr and then use               numpy.trapz(tpr_array, fpr_array) <a href='https://stackoverflow.com/q/53603376/4084039'>https://stackoverflow.com/q/53603376/4084039</a>, <a href='https://stackoverflow.com/a/39678975/4084039'>https://stackoverflow.com/a/39678975/4084039</a></li>\n",
    "<li> Compute Accuracy Score </li>\n",
    "</ol>\n",
    "</pre>"
   ]
  },
  {
   "cell_type": "code",
   "execution_count": null,
   "metadata": {
    "colab": {
     "base_uri": "https://localhost:8080/",
     "height": 202
    },
    "colab_type": "code",
    "id": "U2sKlq0YQvn5",
    "outputId": "52036f63-123c-4878-e212-13781fbaefa5"
   },
   "outputs": [
    {
     "data": {
      "text/html": [
       "<div>\n",
       "<style scoped>\n",
       "    .dataframe tbody tr th:only-of-type {\n",
       "        vertical-align: middle;\n",
       "    }\n",
       "\n",
       "    .dataframe tbody tr th {\n",
       "        vertical-align: top;\n",
       "    }\n",
       "\n",
       "    .dataframe thead th {\n",
       "        text-align: right;\n",
       "    }\n",
       "</style>\n",
       "<table border=\"1\" class=\"dataframe\">\n",
       "  <thead>\n",
       "    <tr style=\"text-align: right;\">\n",
       "      <th></th>\n",
       "      <th>y</th>\n",
       "      <th>proba</th>\n",
       "      <th>P</th>\n",
       "    </tr>\n",
       "  </thead>\n",
       "  <tbody>\n",
       "    <tr>\n",
       "      <th>0</th>\n",
       "      <td>0</td>\n",
       "      <td>0.281035</td>\n",
       "      <td>0</td>\n",
       "    </tr>\n",
       "    <tr>\n",
       "      <th>1</th>\n",
       "      <td>0</td>\n",
       "      <td>0.465152</td>\n",
       "      <td>0</td>\n",
       "    </tr>\n",
       "    <tr>\n",
       "      <th>2</th>\n",
       "      <td>0</td>\n",
       "      <td>0.352793</td>\n",
       "      <td>0</td>\n",
       "    </tr>\n",
       "    <tr>\n",
       "      <th>3</th>\n",
       "      <td>0</td>\n",
       "      <td>0.157818</td>\n",
       "      <td>0</td>\n",
       "    </tr>\n",
       "    <tr>\n",
       "      <th>4</th>\n",
       "      <td>0</td>\n",
       "      <td>0.276648</td>\n",
       "      <td>0</td>\n",
       "    </tr>\n",
       "  </tbody>\n",
       "</table>\n",
       "</div>"
      ],
      "text/plain": [
       "   y     proba  P\n",
       "0  0  0.281035  0\n",
       "1  0  0.465152  0\n",
       "2  0  0.352793  0\n",
       "3  0  0.157818  0\n",
       "4  0  0.276648  0"
      ]
     },
     "execution_count": 31,
     "metadata": {
      "tags": []
     },
     "output_type": "execute_result"
    }
   ],
   "source": [
    "# write your code\n",
    "task_two = pd.read_csv('/content/5_b.csv')\n",
    "\n",
    "#ypred=[0 if y_score < 0.5 else 1]\n",
    "task_two['y'] = task_two['y'].astype(int)\n",
    "task_two['P'] = (task_two['proba'] >= 0.5).astype(int)\n",
    "task_two.head()"
   ]
  },
  {
   "cell_type": "code",
   "execution_count": null,
   "metadata": {
    "colab": {
     "base_uri": "https://localhost:8080/",
     "height": 156
    },
    "colab_type": "code",
    "id": "eHEhyhxYhuAT",
    "outputId": "77cbd9f0-5f91-499d-e108-6d823ed72602"
   },
   "outputs": [
    {
     "name": "stdout",
     "output_type": "stream",
     "text": [
      "Confusion Matrix:\n",
      "True Positive 55\n",
      "True Negative 9761\n",
      "False Positive 239\n",
      "False Negative 45\n",
      "***************************\n",
      "Accuarcy of task B: 97.18811881188118\n",
      "F1_Score of Task B: 27.918781725888326\n"
     ]
    }
   ],
   "source": [
    "def compute_All(Actual,Predicted):\n",
    "\n",
    "  TP = np.sum((Actual==1) & (Predicted==1))\n",
    "  TN = np.sum((Actual==0) & (Predicted==0))\n",
    "  FN = np.sum((Actual==1) & (Predicted==0))\n",
    "  FP = np.sum((Actual==0) & (Predicted==1))\n",
    "\n",
    "  Accuracy = ((TP+TN)/float(TP+TN+FP+FN))*100\n",
    "\n",
    "  Precision = (TP/(FP+TP))*100\n",
    "  Recall = (TP/(TP+FN))*100\n",
    "\n",
    "  F1_Score = 2 * ((Precision*Recall)/(Precision+Recall))\n",
    "\n",
    "  return TP,TN,FN,FP,Accuracy,F1_Score\n",
    "\n",
    "TP,TN,FN,FP,Accuracy,F1_Score = compute_All(task_two['y'], task_two['P'])\n",
    "\n",
    "print('Confusion Matrix:')\n",
    "print('True Positive',TP)\n",
    "print('True Negative',TN)\n",
    "print('False Positive',FP)\n",
    "print('False Negative',FN)\n",
    "print('***************************')\n",
    "print('Accuarcy of task B:',Accuracy)\n",
    "print('F1_Score of Task B:',F1_Score)\n"
   ]
  },
  {
   "cell_type": "code",
   "execution_count": null,
   "metadata": {
    "colab": {
     "base_uri": "https://localhost:8080/",
     "height": 34
    },
    "colab_type": "code",
    "id": "v8ki13wMWhCR",
    "outputId": "f9000dc4-65ad-4338-f3ac-255a8a57228c"
   },
   "outputs": [
    {
     "name": "stdout",
     "output_type": "stream",
     "text": [
      "Area Under the Curve: 0.9276825\n"
     ]
    }
   ],
   "source": [
    "def roc_curve(actual,probability,thresholds):\n",
    "    FPR = []\n",
    "    TPR = []\n",
    "    \n",
    "    for threshold in thresholds:\n",
    "        threshold = round(threshold,2)\n",
    "        predicted = np.where(probability >= threshold, 1, 0) #for each threshold value we are predicting class-label of y\n",
    "        \n",
    "        #Computing Confusion Matrix\n",
    "        tp = np.sum((predicted == 1) & (actual == 1))\n",
    "        tn = np.sum((predicted == 0) & (actual == 0))\n",
    "        fp = np.sum((predicted == 1) & (actual == 0))\n",
    "        fn = np.sum((predicted == 0) & (actual == 1))\n",
    "\n",
    "        #Computing TPR & FPR based on the formulae\n",
    "        FPR.append(fp / (fp + tn))\n",
    "        TPR.append(tp / (tp + fn))\n",
    "        \n",
    "    return [FPR,TPR]\n",
    "\n",
    "FPR_2, TPR_2= roc_curve(task_two['y'],task_two['proba'],thresholds=np.sort(np.arange(0.0,1.01,0.1))[::-1])\n",
    "FPR_arr = np.asarray(FPR_2)\n",
    "TPR_arr = np.asarray(TPR_2)\n",
    "AUC = np.trapz(TPR_arr, FPR_arr)\n",
    "print('Area Under the Curve:', AUC)"
   ]
  },
  {
   "cell_type": "code",
   "execution_count": null,
   "metadata": {
    "colab": {
     "base_uri": "https://localhost:8080/",
     "height": 294
    },
    "colab_type": "code",
    "id": "NHe3hC43Yjzf",
    "outputId": "728e7f09-fb69-40a9-acc9-262f32ce81b1"
   },
   "outputs": [
    {
     "data": {
      "image/png": "[encoded data removed]",
      "text/plain": [
       "<Figure size 432x288 with 1 Axes>"
      ]
     },
     "metadata": {
      "needs_background": "light",
      "tags": []
     },
     "output_type": "display_data"
    }
   ],
   "source": [
    "#Plotting the below ROC Curve just for reference\n",
    "import matplotlib.pyplot as plt\n",
    "plt.plot(FPR_2, TPR_2, color='darkorange', lw = 2, label='ROC curve')\n",
    "plt.plot([0, 1], [0, 1], color='navy', linestyle='--')\n",
    "plt.xlim([0.0, 1.0])\n",
    "plt.ylim([0.0, 1.0])\n",
    "plt.xlabel('False Positive Rate')\n",
    "plt.ylabel('True Positive Rate')\n",
    "plt.title('ROC curve, AUC = %.2f'%AUC)\n",
    "plt.legend()\n",
    "plt.show()"
   ]
  },
  {
   "cell_type": "markdown",
   "metadata": {
    "colab_type": "text",
    "id": "GiPGonTzQvoB"
   },
   "source": [
    "<font color='red'><b>C.</b></font> Compute the best threshold (similarly to ROC curve computation) of probability which gives lowest values of metric <b>A</b> for the given data <strong>5_c.csv</strong>\n",
    "<br>\n",
    "\n",
    "you will be predicting label of a data points like this: $y^{pred}= \\text{[0 if y_score < threshold  else 1]}$\n",
    "\n",
    "$ A = 500 \\times \\text{number of false negative} + 100 \\times \\text{numebr of false positive}$\n",
    "\n",
    "<pre>\n",
    "   <b>Note 1:</b> in this data you can see number of negative points > number of positive points\n",
    "   <b>Note 2:</b> use pandas or numpy to read the data from <b>5_c.csv</b>\n",
    "</pre>"
   ]
  },
  {
   "cell_type": "code",
   "execution_count": 2,
   "metadata": {
    "colab": {
     "base_uri": "https://localhost:8080/",
     "height": 202
    },
    "colab_type": "code",
    "id": "x5HIJzq1QvoE",
    "outputId": "5fe3f07d-944c-48f1-a7b6-9b6944a40be9"
   },
   "outputs": [
    {
     "data": {
      "text/html": [
       "<div>\n",
       "<style scoped>\n",
       "    .dataframe tbody tr th:only-of-type {\n",
       "        vertical-align: middle;\n",
       "    }\n",
       "\n",
       "    .dataframe tbody tr th {\n",
       "        vertical-align: top;\n",
       "    }\n",
       "\n",
       "    .dataframe thead th {\n",
       "        text-align: right;\n",
       "    }\n",
       "</style>\n",
       "<table border=\"1\" class=\"dataframe\">\n",
       "  <thead>\n",
       "    <tr style=\"text-align: right;\">\n",
       "      <th></th>\n",
       "      <th>y</th>\n",
       "      <th>prob</th>\n",
       "      <th>P</th>\n",
       "    </tr>\n",
       "  </thead>\n",
       "  <tbody>\n",
       "    <tr>\n",
       "      <th>0</th>\n",
       "      <td>0</td>\n",
       "      <td>0.458521</td>\n",
       "      <td>0</td>\n",
       "    </tr>\n",
       "    <tr>\n",
       "      <th>1</th>\n",
       "      <td>0</td>\n",
       "      <td>0.505037</td>\n",
       "      <td>1</td>\n",
       "    </tr>\n",
       "    <tr>\n",
       "      <th>2</th>\n",
       "      <td>0</td>\n",
       "      <td>0.418652</td>\n",
       "      <td>0</td>\n",
       "    </tr>\n",
       "    <tr>\n",
       "      <th>3</th>\n",
       "      <td>0</td>\n",
       "      <td>0.412057</td>\n",
       "      <td>0</td>\n",
       "    </tr>\n",
       "    <tr>\n",
       "      <th>4</th>\n",
       "      <td>0</td>\n",
       "      <td>0.375579</td>\n",
       "      <td>0</td>\n",
       "    </tr>\n",
       "  </tbody>\n",
       "</table>\n",
       "</div>"
      ],
      "text/plain": [
       "   y      prob  P\n",
       "0  0  0.458521  0\n",
       "1  0  0.505037  1\n",
       "2  0  0.418652  0\n",
       "3  0  0.412057  0\n",
       "4  0  0.375579  0"
      ]
     },
     "execution_count": 2,
     "metadata": {
      "tags": []
     },
     "output_type": "execute_result"
    }
   ],
   "source": [
    "task_three = pd.read_csv('/content/5_c.csv')\n",
    "task_three['P'] = (task_three['prob'] >= 0.5).astype(int)\n",
    "task_three.head()"
   ]
  },
  {
   "cell_type": "code",
   "execution_count": 9,
   "metadata": {
    "colab": {
     "base_uri": "https://localhost:8080/",
     "height": 72
    },
    "colab_type": "code",
    "id": "xqst39RKUsGB",
    "outputId": "d5e55020-84e1-47d7-d02c-27523d1b6830"
   },
   "outputs": [
    {
     "name": "stdout",
     "output_type": "stream",
     "text": [
      "[[523500, 1.0], [523500, 0.99], [523500, 0.98], [523500, 0.97], [523500, 0.96], [522500, 0.95], [521000, 0.94], [521000, 0.93], [520500, 0.92], [517500, 0.91], [514500, 0.9], [509500, 0.89], [507500, 0.88], [504600, 0.87], [502100, 0.86], [497100, 0.85], [491600, 0.84], [483700, 0.83], [479700, 0.82], [475800, 0.81], [469900, 0.8], [465400, 0.79], [461400, 0.78], [457000, 0.77], [455100, 0.76], [447700, 0.75], [440900, 0.74], [438500, 0.73], [433400, 0.72], [430000, 0.71], [424100, 0.7], [412700, 0.69], [405800, 0.68], [395100, 0.67], [386400, 0.66], [378800, 0.65], [369200, 0.64], [362400, 0.63], [355600, 0.62], [347100, 0.61], [338600, 0.6], [330100, 0.59], [323300, 0.58], [314400, 0.57], [300300, 0.56], [292100, 0.55], [285900, 0.54], [277800, 0.53], [267700, 0.52], [256600, 0.51], [247800, 0.5], [240500, 0.49], [234800, 0.48], [226000, 0.47], [218900, 0.46], [213600, 0.45], [205500, 0.44], [198400, 0.43], [192500, 0.42], [190100, 0.41], [187900, 0.4], [182500, 0.39], [178100, 0.38], [175600, 0.37], [171700, 0.36], [168100, 0.35], [163900, 0.34], [159900, 0.33], [158200, 0.32], [156200, 0.31], [155800, 0.3], [154200, 0.29], [152800, 0.28], [149200, 0.27], [145200, 0.26], [141600, 0.25], [142800, 0.24], [141000, 0.23], [144500, 0.22], [145300, 0.21], [147200, 0.2], [148700, 0.19], [149900, 0.18], [150600, 0.17], [154000, 0.16], [157000, 0.15], [157700, 0.14], [159800, 0.13], [163200, 0.12], [164300, 0.11], [166500, 0.1], [166700, 0.09], [169100, 0.08], [171300, 0.07], [172900, 0.06], [175500, 0.05], [177500, 0.04], [180200, 0.03], [180500, 0.02], [180500, 0.01], [180500, 0.0]]\n",
      "Lowest Value of A = 141000 and best theshold = 0.23\n"
     ]
    }
   ],
   "source": [
    "def roc_curve(actual,probability,thresholds):\n",
    "    A = []\n",
    "    for threshold in thresholds:\n",
    "        threshold = round(threshold,2)\n",
    "        predicted = np.where(probability >= threshold, 1, 0) #for each threshold value we are predicting class-label of y\n",
    "        \n",
    "        #Computing FP and FN and calculating value a based on formula\n",
    "        fp = np.sum((predicted == 1) & (actual == 0))\n",
    "        fn = np.sum((predicted == 0) & (actual == 1))\n",
    "        a = 500 * fn + 100 * fp\n",
    "        A.append([a, threshold])\n",
    "        Low_thres_Value_A = min(A)\n",
    "    return A,Low_thres_Value_A\n",
    "\n",
    "A,Low_thres_Value_A = roc_curve(task_three['y'],task_three['prob'],thresholds=np.sort(np.arange(0.0,1.01,0.01))[::-1])\n",
    "print(A)\n",
    "print('Lowest Value of A = {0} and best theshold = {1}'.format(Low_thres_Value_A[(0)],Low_thres_Value_A[1]))"
   ]
  },
  {
   "cell_type": "markdown",
   "metadata": {
    "colab_type": "text",
    "id": "sD4CcgjXQvoL"
   },
   "source": [
    "<pre>\n",
    "<font color='red'><b>D.</b></font> Compute performance metrics(for regression) for the given data <strong>5_d.csv</strong>\n",
    "    <b>Note 2:</b> use pandas or numpy to read the data from <b>5_d.csv</b>\n",
    "    <b>Note 1:</b> <b>5_d.csv</b> will having two columns Y and predicted_Y both are real valued features\n",
    "<ol>\n",
    "<li> Compute Mean Square Error </li>\n",
    "<li> Compute MAPE: https://www.youtube.com/watch?v=ly6ztgIkUxk</li>\n",
    "<li> Compute R^2 error: https://en.wikipedia.org/wiki/Coefficient_of_determination#Definitions </li>\n",
    "</ol>\n",
    "</pre>"
   ]
  },
  {
   "cell_type": "code",
   "execution_count": null,
   "metadata": {
    "colab": {
     "base_uri": "https://localhost:8080/",
     "height": 202
    },
    "colab_type": "code",
    "id": "BFiRYw8AmIJM",
    "outputId": "a11b1b68-9378-42c2-e96a-65f5b274cbd9"
   },
   "outputs": [
    {
     "data": {
      "text/html": [
       "<div>\n",
       "<style scoped>\n",
       "    .dataframe tbody tr th:only-of-type {\n",
       "        vertical-align: middle;\n",
       "    }\n",
       "\n",
       "    .dataframe tbody tr th {\n",
       "        vertical-align: top;\n",
       "    }\n",
       "\n",
       "    .dataframe thead th {\n",
       "        text-align: right;\n",
       "    }\n",
       "</style>\n",
       "<table border=\"1\" class=\"dataframe\">\n",
       "  <thead>\n",
       "    <tr style=\"text-align: right;\">\n",
       "      <th></th>\n",
       "      <th>y</th>\n",
       "      <th>pred</th>\n",
       "    </tr>\n",
       "  </thead>\n",
       "  <tbody>\n",
       "    <tr>\n",
       "      <th>0</th>\n",
       "      <td>101.0</td>\n",
       "      <td>100.0</td>\n",
       "    </tr>\n",
       "    <tr>\n",
       "      <th>1</th>\n",
       "      <td>120.0</td>\n",
       "      <td>100.0</td>\n",
       "    </tr>\n",
       "    <tr>\n",
       "      <th>2</th>\n",
       "      <td>131.0</td>\n",
       "      <td>113.0</td>\n",
       "    </tr>\n",
       "    <tr>\n",
       "      <th>3</th>\n",
       "      <td>164.0</td>\n",
       "      <td>125.0</td>\n",
       "    </tr>\n",
       "    <tr>\n",
       "      <th>4</th>\n",
       "      <td>154.0</td>\n",
       "      <td>152.0</td>\n",
       "    </tr>\n",
       "  </tbody>\n",
       "</table>\n",
       "</div>"
      ],
      "text/plain": [
       "       y   pred\n",
       "0  101.0  100.0\n",
       "1  120.0  100.0\n",
       "2  131.0  113.0\n",
       "3  164.0  125.0\n",
       "4  154.0  152.0"
      ]
     },
     "execution_count": 22,
     "metadata": {
      "tags": []
     },
     "output_type": "execute_result"
    }
   ],
   "source": [
    "task_four = pd.read_csv('/content/5_d.csv')\n",
    "task_four.head()"
   ]
  },
  {
   "cell_type": "code",
   "execution_count": null,
   "metadata": {
    "colab": {
     "base_uri": "https://localhost:8080/",
     "height": 104
    },
    "colab_type": "code",
    "id": "QH5cEF8-EtKf",
    "outputId": "11145d26-491e-45b8-c7dc-b4fdc67e254b"
   },
   "outputs": [
    {
     "name": "stdout",
     "output_type": "stream",
     "text": [
      "Mean Square Error: 177.16569974554707\n",
      "************************\n",
      "Mean Absolute Percentage Error: 12.912029940096314\n",
      "************************\n",
      "COD or R^2: 0.9563582786990937\n"
     ]
    }
   ],
   "source": [
    "def compute_All_task_4(actual,predicted):\n",
    "  MSE = np.square(np.subtract(actual,predicted)).mean()\n",
    "\n",
    "  error = abs(np.subtract(actual,predicted))\n",
    "  MAPE = ((error/np.mean(actual)).mean())*100\n",
    "\n",
    "  SST = np.sum(np.square((np.subtract(actual,(np.mean(actual))))))\n",
    "  SSR = np.sum(np.square(np.subtract(actual,predicted)))\n",
    "  COD = 1-(SSR/SST)\n",
    "\n",
    "  return MSE,MAPE,COD\n",
    "\n",
    "MSE,MAPE,COD = compute_All_task_4(task_four['y'], task_four['pred'])\n",
    "\n",
    "print('Mean Square Error:', MSE)\n",
    "print('************************')\n",
    "print('Mean Absolute Percentage Error:',MAPE)\n",
    "print('************************')\n",
    "print('COD or R^2:',COD)"
   ]
  }
 ],
 "metadata": {
  "colab": {
   "collapsed_sections": [],
   "name": "5_Performance_metrics_Assignment.ipynb",
   "provenance": []
  },
  "kernelspec": {
   "display_name": "Python 3",
   "language": "python",
   "name": "python3"
  },
  "language_info": {
   "codemirror_mode": {
    "name": "ipython",
    "version": 3
   },
   "file_extension": ".py",
   "mimetype": "text/x-python",
   "name": "python",
   "nbconvert_exporter": "python",
   "pygments_lexer": "ipython3",
   "version": "3.7.6"
  }
 },
 "nbformat": 4,
 "nbformat_minor": 1
}
